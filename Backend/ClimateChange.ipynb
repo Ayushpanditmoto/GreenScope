{
  "cells": [
    {
      "cell_type": "code",
      "execution_count": null,
      "id": "a9190eb5",
      "metadata": {
        "id": "a9190eb5",
        "outputId": "1993ced5-0b2e-4e77-f2eb-23026e871ce8"
      },
      "outputs": [
        {
          "data": {
            "text/html": [
              "        <script type=\"text/javascript\">\n",
              "        window.PlotlyConfig = {MathJaxConfig: 'local'};\n",
              "        if (window.MathJax) {MathJax.Hub.Config({SVG: {font: \"STIX-Web\"}});}\n",
              "        if (typeof require !== 'undefined') {\n",
              "        require.undef(\"plotly\");\n",
              "        requirejs.config({\n",
              "            paths: {\n",
              "                'plotly': ['https://cdn.plot.ly/plotly-2.9.0.min']\n",
              "            }\n",
              "        });\n",
              "        require(['plotly'], function(Plotly) {\n",
              "            window._Plotly = Plotly;\n",
              "        });\n",
              "        }\n",
              "        </script>\n",
              "        "
            ]
          },
          "metadata": {},
          "output_type": "display_data"
        }
      ],
      "source": [
        "import numpy as np\n",
        "import pandas as pd\n",
        "import matplotlib.pyplot as plt\n",
        "import seaborn as sns\n",
        "import plotly.offline as py\n",
        "py.init_notebook_mode(connected=True)\n",
        "import plotly.graph_objs as go\n",
        "import plotly.tools as tls\n",
        "\n",
        "%matplotlib inline"
      ]
    },
    {
      "cell_type": "code",
      "execution_count": null,
      "id": "c35e4e2a",
      "metadata": {
        "id": "c35e4e2a",
        "outputId": "685628d3-d746-4718-ab59-3b48b395b513"
      },
      "outputs": [
        {
          "name": "stdout",
          "output_type": "stream",
          "text": [
            "Note: you may need to restart the kernel to use updated packages.\n"
          ]
        },
        {
          "name": "stderr",
          "output_type": "stream",
          "text": [
            "ERROR: Could not find a version that satisfies the requirement datatime (from versions: none)\n",
            "ERROR: No matching distribution found for datatime\n"
          ]
        }
      ],
      "source": [
        "#pip install datatime"
      ]
    },
    {
      "cell_type": "code",
      "execution_count": null,
      "id": "094e1523",
      "metadata": {
        "id": "094e1523"
      },
      "outputs": [],
      "source": [
        "global_country=pd.read_csv(\"GlobalLandTemperaturesByCountry.csv\")"
      ]
    },
    {
      "cell_type": "code",
      "execution_count": null,
      "id": "04bd1b76",
      "metadata": {
        "id": "04bd1b76",
        "outputId": "4a27b637-1030-41cb-cca0-af64dc57b55d"
      },
      "outputs": [
        {
          "data": {
            "text/html": [
              "<div>\n",
              "<style scoped>\n",
              "    .dataframe tbody tr th:only-of-type {\n",
              "        vertical-align: middle;\n",
              "    }\n",
              "\n",
              "    .dataframe tbody tr th {\n",
              "        vertical-align: top;\n",
              "    }\n",
              "\n",
              "    .dataframe thead th {\n",
              "        text-align: right;\n",
              "    }\n",
              "</style>\n",
              "<table border=\"1\" class=\"dataframe\">\n",
              "  <thead>\n",
              "    <tr style=\"text-align: right;\">\n",
              "      <th></th>\n",
              "      <th>dt</th>\n",
              "      <th>AverageTemperature</th>\n",
              "      <th>AverageTemperatureUncertainty</th>\n",
              "      <th>Country</th>\n",
              "    </tr>\n",
              "  </thead>\n",
              "  <tbody>\n",
              "    <tr>\n",
              "      <th>0</th>\n",
              "      <td>1743-11-01</td>\n",
              "      <td>4.384</td>\n",
              "      <td>2.294</td>\n",
              "      <td>Åland</td>\n",
              "    </tr>\n",
              "    <tr>\n",
              "      <th>1</th>\n",
              "      <td>1743-12-01</td>\n",
              "      <td>NaN</td>\n",
              "      <td>NaN</td>\n",
              "      <td>Åland</td>\n",
              "    </tr>\n",
              "    <tr>\n",
              "      <th>2</th>\n",
              "      <td>1744-01-01</td>\n",
              "      <td>NaN</td>\n",
              "      <td>NaN</td>\n",
              "      <td>Åland</td>\n",
              "    </tr>\n",
              "    <tr>\n",
              "      <th>3</th>\n",
              "      <td>1744-02-01</td>\n",
              "      <td>NaN</td>\n",
              "      <td>NaN</td>\n",
              "      <td>Åland</td>\n",
              "    </tr>\n",
              "    <tr>\n",
              "      <th>4</th>\n",
              "      <td>1744-03-01</td>\n",
              "      <td>NaN</td>\n",
              "      <td>NaN</td>\n",
              "      <td>Åland</td>\n",
              "    </tr>\n",
              "  </tbody>\n",
              "</table>\n",
              "</div>"
            ],
            "text/plain": [
              "           dt  AverageTemperature  AverageTemperatureUncertainty Country\n",
              "0  1743-11-01               4.384                          2.294   Åland\n",
              "1  1743-12-01                 NaN                            NaN   Åland\n",
              "2  1744-01-01                 NaN                            NaN   Åland\n",
              "3  1744-02-01                 NaN                            NaN   Åland\n",
              "4  1744-03-01                 NaN                            NaN   Åland"
            ]
          },
          "execution_count": 43,
          "metadata": {},
          "output_type": "execute_result"
        }
      ],
      "source": [
        "global_country.head()"
      ]
    },
    {
      "cell_type": "code",
      "execution_count": null,
      "id": "c09c2119",
      "metadata": {
        "id": "c09c2119",
        "outputId": "3c37fcea-bf69-4bb3-92a2-6eb1ce681a77"
      },
      "outputs": [
        {
          "data": {
            "text/plain": [
              "dt                                object\n",
              "AverageTemperature               float64\n",
              "AverageTemperatureUncertainty    float64\n",
              "Country                           object\n",
              "dtype: object"
            ]
          },
          "execution_count": 44,
          "metadata": {},
          "output_type": "execute_result"
        }
      ],
      "source": [
        "global_country.dtypes"
      ]
    },
    {
      "cell_type": "code",
      "execution_count": null,
      "id": "c13125cf",
      "metadata": {
        "id": "c13125cf",
        "outputId": "69b4f736-ef1b-4758-ca7e-e16b28e2f9ac"
      },
      "outputs": [
        {
          "data": {
            "text/plain": [
              "(577462, 4)"
            ]
          },
          "execution_count": 45,
          "metadata": {},
          "output_type": "execute_result"
        }
      ],
      "source": [
        "global_country.shape"
      ]
    },
    {
      "cell_type": "code",
      "execution_count": null,
      "id": "e9e78dcb",
      "metadata": {
        "id": "e9e78dcb",
        "outputId": "12ae8f98-3735-40ee-b25e-836250544343"
      },
      "outputs": [
        {
          "data": {
            "text/html": [
              "<div>\n",
              "<style scoped>\n",
              "    .dataframe tbody tr th:only-of-type {\n",
              "        vertical-align: middle;\n",
              "    }\n",
              "\n",
              "    .dataframe tbody tr th {\n",
              "        vertical-align: top;\n",
              "    }\n",
              "\n",
              "    .dataframe thead th {\n",
              "        text-align: right;\n",
              "    }\n",
              "</style>\n",
              "<table border=\"1\" class=\"dataframe\">\n",
              "  <thead>\n",
              "    <tr style=\"text-align: right;\">\n",
              "      <th></th>\n",
              "      <th>dt</th>\n",
              "      <th>AverageTemperature</th>\n",
              "      <th>AverageTemperatureUncertainty</th>\n",
              "      <th>Country</th>\n",
              "    </tr>\n",
              "  </thead>\n",
              "  <tbody>\n",
              "    <tr>\n",
              "      <th>284851</th>\n",
              "      <td>2012-07-01</td>\n",
              "      <td>38.842</td>\n",
              "      <td>0.464</td>\n",
              "      <td>Kuwait</td>\n",
              "    </tr>\n",
              "    <tr>\n",
              "      <th>284707</th>\n",
              "      <td>2000-07-01</td>\n",
              "      <td>38.705</td>\n",
              "      <td>0.467</td>\n",
              "      <td>Kuwait</td>\n",
              "    </tr>\n",
              "    <tr>\n",
              "      <th>284827</th>\n",
              "      <td>2010-07-01</td>\n",
              "      <td>38.495</td>\n",
              "      <td>0.498</td>\n",
              "      <td>Kuwait</td>\n",
              "    </tr>\n",
              "    <tr>\n",
              "      <th>284684</th>\n",
              "      <td>1998-08-01</td>\n",
              "      <td>38.436</td>\n",
              "      <td>0.353</td>\n",
              "      <td>Kuwait</td>\n",
              "    </tr>\n",
              "    <tr>\n",
              "      <th>284708</th>\n",
              "      <td>2000-08-01</td>\n",
              "      <td>38.315</td>\n",
              "      <td>0.593</td>\n",
              "      <td>Kuwait</td>\n",
              "    </tr>\n",
              "    <tr>\n",
              "      <th>...</th>\n",
              "      <td>...</td>\n",
              "      <td>...</td>\n",
              "      <td>...</td>\n",
              "      <td>...</td>\n",
              "    </tr>\n",
              "    <tr>\n",
              "      <th>575800</th>\n",
              "      <td>1875-04-01</td>\n",
              "      <td>NaN</td>\n",
              "      <td>NaN</td>\n",
              "      <td>Zimbabwe</td>\n",
              "    </tr>\n",
              "    <tr>\n",
              "      <th>575852</th>\n",
              "      <td>1879-08-01</td>\n",
              "      <td>NaN</td>\n",
              "      <td>NaN</td>\n",
              "      <td>Zimbabwe</td>\n",
              "    </tr>\n",
              "    <tr>\n",
              "      <th>575853</th>\n",
              "      <td>1879-09-01</td>\n",
              "      <td>NaN</td>\n",
              "      <td>NaN</td>\n",
              "      <td>Zimbabwe</td>\n",
              "    </tr>\n",
              "    <tr>\n",
              "      <th>575854</th>\n",
              "      <td>1879-10-01</td>\n",
              "      <td>NaN</td>\n",
              "      <td>NaN</td>\n",
              "      <td>Zimbabwe</td>\n",
              "    </tr>\n",
              "    <tr>\n",
              "      <th>577461</th>\n",
              "      <td>2013-09-01</td>\n",
              "      <td>NaN</td>\n",
              "      <td>NaN</td>\n",
              "      <td>Zimbabwe</td>\n",
              "    </tr>\n",
              "  </tbody>\n",
              "</table>\n",
              "<p>577462 rows × 4 columns</p>\n",
              "</div>"
            ],
            "text/plain": [
              "                dt  AverageTemperature  AverageTemperatureUncertainty  \\\n",
              "284851  2012-07-01              38.842                          0.464   \n",
              "284707  2000-07-01              38.705                          0.467   \n",
              "284827  2010-07-01              38.495                          0.498   \n",
              "284684  1998-08-01              38.436                          0.353   \n",
              "284708  2000-08-01              38.315                          0.593   \n",
              "...            ...                 ...                            ...   \n",
              "575800  1875-04-01                 NaN                            NaN   \n",
              "575852  1879-08-01                 NaN                            NaN   \n",
              "575853  1879-09-01                 NaN                            NaN   \n",
              "575854  1879-10-01                 NaN                            NaN   \n",
              "577461  2013-09-01                 NaN                            NaN   \n",
              "\n",
              "         Country  \n",
              "284851    Kuwait  \n",
              "284707    Kuwait  \n",
              "284827    Kuwait  \n",
              "284684    Kuwait  \n",
              "284708    Kuwait  \n",
              "...          ...  \n",
              "575800  Zimbabwe  \n",
              "575852  Zimbabwe  \n",
              "575853  Zimbabwe  \n",
              "575854  Zimbabwe  \n",
              "577461  Zimbabwe  \n",
              "\n",
              "[577462 rows x 4 columns]"
            ]
          },
          "execution_count": 46,
          "metadata": {},
          "output_type": "execute_result"
        }
      ],
      "source": [
        "sort_by_temp_desc = global_country.sort_values('AverageTemperature', ascending=False)\n",
        "sort_by_temp_desc"
      ]
    },
    {
      "cell_type": "code",
      "execution_count": null,
      "id": "e197031b",
      "metadata": {
        "id": "e197031b"
      },
      "outputs": [],
      "source": [
        "global_temp=pd.read_csv(\"GlobalTemperatures.csv\")"
      ]
    },
    {
      "cell_type": "code",
      "execution_count": null,
      "id": "d0e00701",
      "metadata": {
        "id": "d0e00701",
        "outputId": "ebc87150-22a9-435a-b395-0a1ed2b513bb"
      },
      "outputs": [
        {
          "data": {
            "text/plain": [
              "<AxesSubplot:title={'center':'Average Global Temperature Movement'}, xlabel='Date (1750 - 2015)', ylabel='Average Global Temperature'>"
            ]
          },
          "execution_count": 52,
          "metadata": {},
          "output_type": "execute_result"
        },
        {
          "data": {
            "image/png": "[encoded data removed]",
            "text/plain": [
              "<Figure size 1152x432 with 1 Axes>"
            ]
          },
          "metadata": {
            "needs_background": "light"
          },
          "output_type": "display_data"
        }
      ],
      "source": [
        "global_temp = global_temp[['dt', 'LandAndOceanAverageTemperature']]\n",
        "global_temp.dropna(inplace=True)\n",
        "global_temp['dt'] = pd.to_datetime(global_temp.dt).dt.strftime('%d/%m/%Y')\n",
        "global_temp['dt'] = global_temp['dt'].apply(lambda x:x[6:])\n",
        "global_temp = global_temp.groupby(['dt'])['LandAndOceanAverageTemperature'].mean().reset_index()\n",
        "\n",
        "plt.figure(figsize =(16, 6))\n",
        "ax = sns.lineplot(\n",
        "    x = global_temp['dt'],\n",
        "    y = global_temp['LandAndOceanAverageTemperature'])\n",
        "ax.set_title('Average Global Temperature Movement')\n",
        "ax.set_ylabel('Average Global Temperature')\n",
        "ax.set_xlabel('Date (1750 - 2015)')\n",
        "ax.axes.get_xaxis().set_ticks([])\n",
        "ax"
      ]
    },
    {
      "cell_type": "code",
      "execution_count": null,
      "id": "e5228cb7",
      "metadata": {
        "id": "e5228cb7",
        "outputId": "4c97c71a-04b8-4061-d2d8-5e0dce714120"
      },
      "outputs": [
        {
          "data": {
            "text/html": [
              "<div>\n",
              "<style scoped>\n",
              "    .dataframe tbody tr th:only-of-type {\n",
              "        vertical-align: middle;\n",
              "    }\n",
              "\n",
              "    .dataframe tbody tr th {\n",
              "        vertical-align: top;\n",
              "    }\n",
              "\n",
              "    .dataframe thead th {\n",
              "        text-align: right;\n",
              "    }\n",
              "</style>\n",
              "<table border=\"1\" class=\"dataframe\">\n",
              "  <thead>\n",
              "    <tr style=\"text-align: right;\">\n",
              "      <th></th>\n",
              "      <th>dt</th>\n",
              "      <th>LandAndOceanAverageTemperature</th>\n",
              "    </tr>\n",
              "  </thead>\n",
              "  <tbody>\n",
              "    <tr>\n",
              "      <th>0</th>\n",
              "      <td>1850</td>\n",
              "      <td>14.867167</td>\n",
              "    </tr>\n",
              "    <tr>\n",
              "      <th>1</th>\n",
              "      <td>1851</td>\n",
              "      <td>14.991833</td>\n",
              "    </tr>\n",
              "    <tr>\n",
              "      <th>2</th>\n",
              "      <td>1852</td>\n",
              "      <td>15.006500</td>\n",
              "    </tr>\n",
              "    <tr>\n",
              "      <th>3</th>\n",
              "      <td>1853</td>\n",
              "      <td>14.955167</td>\n",
              "    </tr>\n",
              "    <tr>\n",
              "      <th>4</th>\n",
              "      <td>1854</td>\n",
              "      <td>14.991000</td>\n",
              "    </tr>\n",
              "    <tr>\n",
              "      <th>...</th>\n",
              "      <td>...</td>\n",
              "      <td>...</td>\n",
              "    </tr>\n",
              "    <tr>\n",
              "      <th>161</th>\n",
              "      <td>2011</td>\n",
              "      <td>15.769500</td>\n",
              "    </tr>\n",
              "    <tr>\n",
              "      <th>162</th>\n",
              "      <td>2012</td>\n",
              "      <td>15.802333</td>\n",
              "    </tr>\n",
              "    <tr>\n",
              "      <th>163</th>\n",
              "      <td>2013</td>\n",
              "      <td>15.854417</td>\n",
              "    </tr>\n",
              "    <tr>\n",
              "      <th>164</th>\n",
              "      <td>2014</td>\n",
              "      <td>15.913000</td>\n",
              "    </tr>\n",
              "    <tr>\n",
              "      <th>165</th>\n",
              "      <td>2015</td>\n",
              "      <td>16.058583</td>\n",
              "    </tr>\n",
              "  </tbody>\n",
              "</table>\n",
              "<p>166 rows × 2 columns</p>\n",
              "</div>"
            ],
            "text/plain": [
              "       dt  LandAndOceanAverageTemperature\n",
              "0    1850                       14.867167\n",
              "1    1851                       14.991833\n",
              "2    1852                       15.006500\n",
              "3    1853                       14.955167\n",
              "4    1854                       14.991000\n",
              "..    ...                             ...\n",
              "161  2011                       15.769500\n",
              "162  2012                       15.802333\n",
              "163  2013                       15.854417\n",
              "164  2014                       15.913000\n",
              "165  2015                       16.058583\n",
              "\n",
              "[166 rows x 2 columns]"
            ]
          },
          "execution_count": 53,
          "metadata": {},
          "output_type": "execute_result"
        }
      ],
      "source": [
        "global_temp"
      ]
    },
    {
      "cell_type": "code",
      "execution_count": null,
      "id": "f106dd53",
      "metadata": {
        "id": "f106dd53"
      },
      "outputs": [],
      "source": [
        "# Preparing the data for machine learning\n",
        "X = global_temp.iloc[:, global_temp.columns != 'LandAndOceanAverageTemperature'].values\n",
        "y = global_temp.iloc[:, global_temp.columns == 'LandAndOceanAverageTemperature'].values"
      ]
    },
    {
      "cell_type": "code",
      "execution_count": null,
      "id": "ba7f4f9d",
      "metadata": {
        "id": "ba7f4f9d"
      },
      "outputs": [],
      "source": [
        "# Splitting the dataset into the Training set and Test set\n",
        "from sklearn.model_selection import train_test_split\n",
        "X_train, X_test, y_train, y_test = train_test_split(X, y, test_size = 0.2, random_state = 0)"
      ]
    },
    {
      "cell_type": "code",
      "execution_count": null,
      "id": "54d0f637",
      "metadata": {
        "id": "54d0f637",
        "outputId": "27b9ae02-01cc-4fb1-9ce6-e3e7e55b5df9"
      },
      "outputs": [
        {
          "data": {
            "text/plain": [
              "array([['1957'],\n",
              "       ['1874'],\n",
              "       ['2000'],\n",
              "       ['2001'],\n",
              "       ['1869'],\n",
              "       ['1979'],\n",
              "       ['1921'],\n",
              "       ['1987'],\n",
              "       ['1866'],\n",
              "       ['1969'],\n",
              "       ['1963'],\n",
              "       ['1890'],\n",
              "       ['1930'],\n",
              "       ['1872'],\n",
              "       ['2007'],\n",
              "       ['1998'],\n",
              "       ['1971'],\n",
              "       ['1933'],\n",
              "       ['1958'],\n",
              "       ['1877'],\n",
              "       ['1944'],\n",
              "       ['1981'],\n",
              "       ['1942'],\n",
              "       ['1913'],\n",
              "       ['1962'],\n",
              "       ['1868'],\n",
              "       ['1924'],\n",
              "       ['1916'],\n",
              "       ['1880'],\n",
              "       ['1961'],\n",
              "       ['1912'],\n",
              "       ['1852'],\n",
              "       ['1909'],\n",
              "       ['1940'],\n",
              "       ['1960'],\n",
              "       ['1893'],\n",
              "       ['1860'],\n",
              "       ['1939'],\n",
              "       ['2010'],\n",
              "       ['1954'],\n",
              "       ['1947'],\n",
              "       ['1936'],\n",
              "       ['1983'],\n",
              "       ['2009'],\n",
              "       ['1900'],\n",
              "       ['1959'],\n",
              "       ['1968'],\n",
              "       ['1914'],\n",
              "       ['1995'],\n",
              "       ['2014'],\n",
              "       ['1919'],\n",
              "       ['1899'],\n",
              "       ['1898'],\n",
              "       ['1935'],\n",
              "       ['1863'],\n",
              "       ['1988'],\n",
              "       ['1873'],\n",
              "       ['1973'],\n",
              "       ['1870'],\n",
              "       ['1865'],\n",
              "       ['1928'],\n",
              "       ['1902'],\n",
              "       ['1926'],\n",
              "       ['1853'],\n",
              "       ['2015'],\n",
              "       ['1951'],\n",
              "       ['1856'],\n",
              "       ['1918'],\n",
              "       ['1925'],\n",
              "       ['1934'],\n",
              "       ['1974'],\n",
              "       ['1862'],\n",
              "       ['1980'],\n",
              "       ['1992'],\n",
              "       ['1864'],\n",
              "       ['1850'],\n",
              "       ['1941'],\n",
              "       ['1993'],\n",
              "       ['1896'],\n",
              "       ['1861'],\n",
              "       ['1952'],\n",
              "       ['1885'],\n",
              "       ['1907'],\n",
              "       ['1891'],\n",
              "       ['2012'],\n",
              "       ['1915'],\n",
              "       ['1851'],\n",
              "       ['1970'],\n",
              "       ['1986'],\n",
              "       ['2004'],\n",
              "       ['1892'],\n",
              "       ['1955'],\n",
              "       ['1854'],\n",
              "       ['1994'],\n",
              "       ['1867'],\n",
              "       ['1888'],\n",
              "       ['1903'],\n",
              "       ['1982'],\n",
              "       ['1978'],\n",
              "       ['1884'],\n",
              "       ['1878'],\n",
              "       ['1964'],\n",
              "       ['1881'],\n",
              "       ['2005'],\n",
              "       ['1977'],\n",
              "       ['1996'],\n",
              "       ['1882'],\n",
              "       ['1879'],\n",
              "       ['1949'],\n",
              "       ['1932'],\n",
              "       ['1929'],\n",
              "       ['1965'],\n",
              "       ['2011'],\n",
              "       ['1922'],\n",
              "       ['1927'],\n",
              "       ['1875'],\n",
              "       ['1931'],\n",
              "       ['2006'],\n",
              "       ['2008'],\n",
              "       ['1889'],\n",
              "       ['1908'],\n",
              "       ['1990'],\n",
              "       ['1938'],\n",
              "       ['1920'],\n",
              "       ['1937'],\n",
              "       ['1886'],\n",
              "       ['1871'],\n",
              "       ['1859'],\n",
              "       ['1953'],\n",
              "       ['1917'],\n",
              "       ['1967'],\n",
              "       ['1897']], dtype=object)"
            ]
          },
          "execution_count": 56,
          "metadata": {},
          "output_type": "execute_result"
        }
      ],
      "source": [
        "X_train\n"
      ]
    },
    {
      "cell_type": "code",
      "execution_count": null,
      "id": "83d56091",
      "metadata": {
        "id": "83d56091",
        "outputId": "2de86e69-3486-434c-efe2-2ce899b412f3"
      },
      "outputs": [
        {
          "data": {
            "text/plain": [
              "LinearRegression()"
            ]
          },
          "execution_count": 57,
          "metadata": {},
          "output_type": "execute_result"
        }
      ],
      "source": [
        "# Fitting a linear regression to the training set\n",
        "from sklearn.linear_model import LinearRegression\n",
        "regressor = LinearRegression()\n",
        "regressor.fit(X_train, y_train)"
      ]
    },
    {
      "cell_type": "code",
      "execution_count": null,
      "id": "b1eaabaf",
      "metadata": {
        "id": "b1eaabaf"
      },
      "outputs": [],
      "source": [
        "# Predicting the test set results\n",
        "y_pred = regressor.predict(X_test)"
      ]
    },
    {
      "cell_type": "code",
      "execution_count": null,
      "id": "09f39529",
      "metadata": {
        "id": "09f39529"
      },
      "outputs": [],
      "source": [
        "X_train = X_train.astype('float64')\n",
        "y_train = y_train.astype('float64')\n",
        "X_test = X_test.astype('float64')\n",
        "y_test = y_test.astype('float64')"
      ]
    },
    {
      "cell_type": "code",
      "execution_count": null,
      "id": "e2afd08a",
      "metadata": {
        "id": "e2afd08a",
        "outputId": "1952614f-4a0a-4bec-a904-8f53cbc216e0"
      },
      "outputs": [
        {
          "data": {
            "image/png": "[encoded data removed]",
            "text/plain": [
              "<Figure size 432x288 with 1 Axes>"
            ]
          },
          "metadata": {
            "needs_background": "light"
          },
          "output_type": "display_data"
        }
      ],
      "source": [
        "# Visualising the training set results\n",
        "plt.scatter(X_train, y_train, color = 'green')\n",
        "plt.plot(X_train, regressor.predict(X_train), color = 'blue')\n",
        "plt.title('Average Global Temperature (Training Set)')\n",
        "plt.xlabel('Year')\n",
        "plt.ylabel('Temperatre (c)')\n",
        "plt.show()"
      ]
    },
    {
      "cell_type": "code",
      "execution_count": null,
      "id": "63d67571",
      "metadata": {
        "id": "63d67571",
        "outputId": "d16a7edd-9df4-4364-bf4b-100f03ec4c0b"
      },
      "outputs": [
        {
          "data": {
            "image/png": "[encoded data removed]",
            "text/plain": [
              "<Figure size 432x288 with 1 Axes>"
            ]
          },
          "metadata": {
            "needs_background": "light"
          },
          "output_type": "display_data"
        }
      ],
      "source": [
        "# Visualising the test set results\n",
        "plt.scatter(X_test, y_test, color = 'red')\n",
        "plt.plot(X_train, regressor.predict(X_train), color = 'blue')\n",
        "plt.title('Average Global Temperature (Test set)')\n",
        "plt.xlabel('Year')\n",
        "plt.ylabel('Temperature(c)')\n",
        "plt.show()"
      ]
    },
    {
      "cell_type": "code",
      "execution_count": null,
      "id": "4450df15",
      "metadata": {
        "id": "4450df15",
        "outputId": "ac5c7372-664d-4468-e1b6-d9e8ea3707e9"
      },
      "outputs": [
        {
          "data": {
            "text/plain": [
              "array([[15.71278691]])"
            ]
          },
          "execution_count": 66,
          "metadata": {},
          "output_type": "execute_result"
        }
      ],
      "source": [
        "# Building the predictor\n",
        "X_predict = [2025] # Enter the year that you require the temperature for\n",
        "X_predict = np.array(X_predict).reshape(1, -1) #reshaping\n",
        "y_predict = regressor.predict(X_predict)\n",
        "\n",
        "# Outputting the predicted temperature of the year above\n",
        "y_predict"
      ]
    },
    {
      "cell_type": "code",
      "execution_count": null,
      "id": "05bf4a74",
      "metadata": {
        "id": "05bf4a74"
      },
      "outputs": [],
      "source": []
    }
  ],
  "metadata": {
    "kernelspec": {
      "display_name": "Python 3 (ipykernel)",
      "language": "python",
      "name": "python3"
    },
    "language_info": {
      "codemirror_mode": {
        "name": "ipython",
        "version": 3
      },
      "file_extension": ".py",
      "mimetype": "text/x-python",
      "name": "python",
      "nbconvert_exporter": "python",
      "pygments_lexer": "ipython3",
      "version": "3.9.12"
    },
    "colab": {
      "provenance": []
    }
  },
  "nbformat": 4,
  "nbformat_minor": 5
}